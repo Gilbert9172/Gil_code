{
 "cells": [
  {
   "cell_type": "markdown",
   "source": [
    "# Itertools\r\n",
    "\r\n",
    "- 효율적인 반복을 위한 함수\r\n",
    "- 알고리즘 풀이에서 \"구현\"을 좀 더 간단하게 할 수 있게 해준다.\r\n",
    "- [참고링크](https://kimdoky.github.io/python/2019/11/24/python-itertools/)"
   ],
   "metadata": {}
  },
  {
   "cell_type": "markdown",
   "source": [
    "## 1. count\r\n",
    "\r\n",
    "- 반복하고자 하는 최대수를 미리 알지 않아도 되는 경우 사용."
   ],
   "metadata": {}
  },
  {
   "cell_type": "code",
   "execution_count": null,
   "source": [
    "# 무한 반복\r\n",
    "from itertools import count , zip_longest\r\n",
    "for number, letter in zip_longest(count(0, 10), ['a', 'b', 'c', 'd', 'e'],fillvalue='='):\r\n",
    "    print ('{0}: {1}'.format(number, letter))"
   ],
   "outputs": [],
   "metadata": {}
  },
  {
   "cell_type": "markdown",
   "source": [
    "## 2. chain\r\n",
    "- 리스트를 연결"
   ],
   "metadata": {}
  },
  {
   "cell_type": "code",
   "execution_count": 10,
   "source": [
    "import itertools\r\n",
    "\r\n",
    "letters = ['a', 'b', 'c', 'd', 'e', 'f']\r\n",
    "booleans = [1, 0, 1, 0, 0, 1]\r\n",
    "decimals = [0.1, 0.7, 0.4, 0.4, 0.5]\r\n",
    "\r\n",
    "list(itertools.chain(letters,booleans,decimals))"
   ],
   "outputs": [
    {
     "output_type": "execute_result",
     "data": {
      "text/plain": [
       "['a', 'b', 'c', 'd', 'e', 'f', 1, 0, 1, 0, 0, 1, 0.1, 0.7, 0.4, 0.4, 0.5]"
      ]
     },
     "metadata": {},
     "execution_count": 10
    }
   ],
   "metadata": {}
  },
  {
   "cell_type": "markdown",
   "source": [
    "## 3. accumulate\r\n",
    "- 각 요소의 누적합"
   ],
   "metadata": {}
  },
  {
   "cell_type": "code",
   "execution_count": 33,
   "source": [
    "from itertools import accumulate\r\n",
    "\r\n",
    "print(list(accumulate([1,3,5,7])))"
   ],
   "outputs": [
    {
     "output_type": "stream",
     "name": "stdout",
     "text": [
      "[1, 4, 9, 16]\n"
     ]
    }
   ],
   "metadata": {}
  },
  {
   "cell_type": "markdown",
   "source": [
    "## 4. chain.from_iterable()\r\n",
    "- str을 slicing 해줘서 하나의 요소로 반환"
   ],
   "metadata": {}
  },
  {
   "cell_type": "code",
   "execution_count": 36,
   "source": [
    "from itertools import chain\r\n",
    "print(list(chain.from_iterable(['ABC','DEF'])))"
   ],
   "outputs": [
    {
     "output_type": "stream",
     "name": "stdout",
     "text": [
      "['A', 'B', 'C', 'D', 'E', 'F']\n"
     ]
    }
   ],
   "metadata": {}
  },
  {
   "cell_type": "code",
   "execution_count": 41,
   "source": [
    "# str(N) ; sclicing때 유용할 듯.\r\n",
    "N = int(input())\r\n",
    "a = list(map(int,chain.from_iterable([str(N)])))\r\n",
    "print(a)"
   ],
   "outputs": [
    {
     "output_type": "stream",
     "name": "stdout",
     "text": [
      "[1, 1, 2, 3, 4]\n"
     ]
    }
   ],
   "metadata": {}
  },
  {
   "cell_type": "markdown",
   "source": [
    "## 5. compress"
   ],
   "metadata": {}
  },
  {
   "cell_type": "code",
   "execution_count": 47,
   "source": [
    "from itertools import compress\r\n",
    "\r\n",
    "print(list(compress('ABCDEF',[1,0,1,0,1,1])))"
   ],
   "outputs": [
    {
     "output_type": "stream",
     "name": "stdout",
     "text": [
      "['A', 'C', 'E', 'F']\n"
     ]
    }
   ],
   "metadata": {}
  },
  {
   "cell_type": "markdown",
   "source": [
    "## 6. dropwhile\r\n",
    "- 조건문이 실패 할때 부터의 값을 반환"
   ],
   "metadata": {}
  },
  {
   "cell_type": "code",
   "execution_count": 51,
   "source": [
    "# 6부터 조건문에 맞지 않는다.\r\n",
    "from itertools import dropwhile\r\n",
    "print(list(dropwhile(lambda x: x<5, [1,4,6,7,1])))"
   ],
   "outputs": [
    {
     "output_type": "stream",
     "name": "stdout",
     "text": [
      "[6, 7, 1]\n"
     ]
    }
   ],
   "metadata": {}
  },
  {
   "cell_type": "markdown",
   "source": [
    "## 7. filterfalse\r\n",
    "- false인 값을 반환"
   ],
   "metadata": {}
  },
  {
   "cell_type": "code",
   "execution_count": 54,
   "source": [
    "from itertools import filterfalse\r\n",
    "\r\n",
    "print(list(filterfalse(lambda x: x>2, range(10))))"
   ],
   "outputs": [
    {
     "output_type": "stream",
     "name": "stdout",
     "text": [
      "[0, 1, 2]\n"
     ]
    }
   ],
   "metadata": {}
  },
  {
   "cell_type": "markdown",
   "source": [
    "## 8. islice\r\n",
    "- [start:stop:step]\t"
   ],
   "metadata": {}
  },
  {
   "cell_type": "code",
   "execution_count": 68,
   "source": [
    "from itertools import islice\r\n",
    "print(list(islice('ABCDEFG',1,None)))\r\n",
    "print(list(islice('ABCDEFG',2,None)))\r\n",
    "print(list(islice('ABCDEFG',3,None)))\r\n",
    "print(list(islice('ABCDEFG',4,None)))"
   ],
   "outputs": [
    {
     "output_type": "stream",
     "name": "stdout",
     "text": [
      "['B', 'C', 'D', 'E', 'F', 'G']\n",
      "['C', 'D', 'E', 'F', 'G']\n",
      "['D', 'E', 'F', 'G']\n",
      "['E', 'F', 'G']\n"
     ]
    }
   ],
   "metadata": {}
  },
  {
   "cell_type": "markdown",
   "source": [
    "## 9. starmap\r\n",
    "- (n,m) ; $n^ M$"
   ],
   "metadata": {}
  },
  {
   "cell_type": "code",
   "execution_count": 69,
   "source": [
    "from itertools import starmap\r\n",
    "print(list(starmap(pow, [(2,5), (3,2), (10,3)])))"
   ],
   "outputs": [
    {
     "output_type": "stream",
     "name": "stdout",
     "text": [
      "[32, 9, 1000]\n"
     ]
    }
   ],
   "metadata": {}
  },
  {
   "cell_type": "markdown",
   "source": [
    "## 10. takewhile\r\n",
    "- 조건 문이 실패 할때까지\r\n",
    "- while문에서 break 같은 역활??"
   ],
   "metadata": {}
  },
  {
   "cell_type": "code",
   "execution_count": 71,
   "source": [
    "from itertools import takewhile\r\n",
    "\r\n",
    "print(list(takewhile(lambda x: x<5, [1,4,6,4,1])))"
   ],
   "outputs": [
    {
     "output_type": "stream",
     "name": "stdout",
     "text": [
      "[1, 4]\n"
     ]
    }
   ],
   "metadata": {}
  },
  {
   "cell_type": "markdown",
   "source": [
    "# 조합 반복자\r\n",
    "\r\n",
    "## 11. product\r\n",
    "- (str, repeat = n)\r\n",
    "- 중복 허용\r\n",
    "- ('A', 'B') 있으면 ('B', 'A') 있다."
   ],
   "metadata": {}
  },
  {
   "cell_type": "code",
   "execution_count": 83,
   "source": [
    "from itertools import product\r\n",
    "\r\n",
    "print(list(product('ABC',repeat=2)))\r\n",
    "print(\"=\"*105)\r\n",
    "print(list(product('123',repeat=2)))"
   ],
   "outputs": [
    {
     "output_type": "stream",
     "name": "stdout",
     "text": [
      "[('A', 'A'), ('A', 'B'), ('A', 'C'), ('B', 'A'), ('B', 'B'), ('B', 'C'), ('C', 'A'), ('C', 'B'), ('C', 'C')]\n",
      "=========================================================================================================\n",
      "[('1', '1'), ('1', '2'), ('1', '3'), ('2', '1'), ('2', '2'), ('2', '3'), ('3', '1'), ('3', '2'), ('3', '3')]\n"
     ]
    }
   ],
   "metadata": {}
  },
  {
   "cell_type": "markdown",
   "source": [
    "## 12. permutational\r\n",
    "- 가능한 모든 순서\r\n",
    "- 반복 되는 요소 없음\r\n",
    "- ('A', 'B') 있으면 ('B', 'A')있다."
   ],
   "metadata": {}
  },
  {
   "cell_type": "code",
   "execution_count": 85,
   "source": [
    "from itertools import permutations\r\n",
    "\r\n",
    "print(list(permutations('ABCD', 2)))"
   ],
   "outputs": [
    {
     "output_type": "stream",
     "name": "stdout",
     "text": [
      "[('A', 'B'), ('A', 'C'), ('A', 'D'), ('B', 'A'), ('B', 'C'), ('B', 'D'), ('C', 'A'), ('C', 'B'), ('C', 'D'), ('D', 'A'), ('D', 'B'), ('D', 'C')]\n"
     ]
    }
   ],
   "metadata": {}
  },
  {
   "cell_type": "markdown",
   "source": [
    "## 13. combinations\r\n",
    "- (p,r) ; len(r)의 조합의 모든 경우의 수\r\n",
    "- ('A', 'B') 있으면 ('B', 'A')없다."
   ],
   "metadata": {}
  },
  {
   "cell_type": "code",
   "execution_count": 87,
   "source": [
    "from itertools import combinations\r\n",
    "\r\n",
    "print(list(combinations('ABCD', 2)))"
   ],
   "outputs": [
    {
     "output_type": "stream",
     "name": "stdout",
     "text": [
      "[('A', 'B'), ('A', 'C'), ('A', 'D'), ('B', 'C'), ('B', 'D'), ('C', 'D')]\n"
     ]
    }
   ],
   "metadata": {}
  },
  {
   "cell_type": "markdown",
   "source": [
    "## 14. combinations_with_replacement\r\n",
    "- (p,r) ; len(r) tuples\r\n",
    "- 정렬 되어있고, 반복되는 요소 있다.\r\n",
    "- ('A', 'B') 있으면 ('B', 'A')없다."
   ],
   "metadata": {}
  },
  {
   "cell_type": "code",
   "execution_count": 88,
   "source": [
    "from itertools import combinations_with_replacement\r\n",
    "\r\n",
    "print(list(combinations_with_replacement('ABCD', 2)))"
   ],
   "outputs": [
    {
     "output_type": "stream",
     "name": "stdout",
     "text": [
      "[('A', 'A'), ('A', 'B'), ('A', 'C'), ('A', 'D'), ('B', 'B'), ('B', 'C'), ('B', 'D'), ('C', 'C'), ('C', 'D'), ('D', 'D')]\n"
     ]
    }
   ],
   "metadata": {}
  }
 ],
 "metadata": {
  "orig_nbformat": 4,
  "language_info": {
   "name": "python",
   "version": "3.9.5",
   "mimetype": "text/x-python",
   "codemirror_mode": {
    "name": "ipython",
    "version": 3
   },
   "pygments_lexer": "ipython3",
   "nbconvert_exporter": "python",
   "file_extension": ".py"
  },
  "kernelspec": {
   "name": "python3",
   "display_name": "Python 3.9.5 64-bit ('JUPY': conda)"
  },
  "interpreter": {
   "hash": "1f708fb0851e50b82eb8cc24543ab3373c2a45a982f5b6b30dc21d8a3e35c611"
  }
 },
 "nbformat": 4,
 "nbformat_minor": 2
}