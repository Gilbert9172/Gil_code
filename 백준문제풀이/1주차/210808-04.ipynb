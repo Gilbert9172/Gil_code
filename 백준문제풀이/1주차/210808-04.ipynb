{
 "cells": [
  {
   "cell_type": "markdown",
   "id": "313a21ca",
   "metadata": {},
   "source": [
    "# 4. 사분면 고르기\n",
    "```\n",
    "흔한 수학 문제 중 하나는 주어진 점이 어느 사분면에 속하는지 알아내는 것이다.\n",
    "\n",
    "사분면은 아래 그림처럼 1부터 4까지 번호를 갖는다. \"Quadrant n\"은 \"제n사분면\"이라는 뜻이다.\n",
    "\n",
    "예를 들어, 좌표가 (12, 5)인 점 A는 x좌표와 y좌표가 모두 양수이므로 제1사분면에 속한다. \n",
    "\n",
    "점 B는 x좌표가 음수이고 y좌표가 양수이므로 제2사분면에 속한다.\n",
    "\n",
    "점의 좌표를 입력받아 그 점이 어느 사분면에 속하는지 알아내는 프로그램을 작성하시오. \n",
    "\n",
    "단, x좌표와 y좌표는 모두 양수나 음수라고 가정한다\n",
    "```"
   ]
  },
  {
   "cell_type": "code",
   "execution_count": null,
   "id": "a6fa278e",
   "metadata": {},
   "outputs": [],
   "source": [
    "x = int(input())\n",
    "y = int(input())\n",
    "\n",
    "# 두 수의 곱이 양수일땐 1,3사분면\n",
    "if x*y > 0:\n",
    "    if x > 0 and y > 0: \n",
    "        print(1)\n",
    "    elif x < 0 and y < 0:\n",
    "        print(3)\n",
    "        \n",
    "# 두 수의 곱이 음수일땐 2,4사분면        \n",
    "elif x*y < 0:\n",
    "    if x < 0 and y > 0: \n",
    "        print(2)\n",
    "    elif x > 0 and y < 0:\n",
    "        print(4)"
   ]
  }
 ],
 "metadata": {
  "kernelspec": {
   "display_name": "Python 3",
   "language": "python",
   "name": "python3"
  },
  "language_info": {
   "codemirror_mode": {
    "name": "ipython",
    "version": 3
   },
   "file_extension": ".py",
   "mimetype": "text/x-python",
   "name": "python",
   "nbconvert_exporter": "python",
   "pygments_lexer": "ipython3",
   "version": "3.9.5"
  }
 },
 "nbformat": 4,
 "nbformat_minor": 5
}
