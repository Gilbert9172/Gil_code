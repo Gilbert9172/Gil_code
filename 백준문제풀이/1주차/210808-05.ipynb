{
 "cells": [
  {
   "cell_type": "markdown",
   "id": "438e29e0",
   "metadata": {},
   "source": [
    "# 5. 알람 시계\n",
    "```\n",
    "상근이는 매일 아침 알람을 듣고 일어난다. 알람을 듣고 바로 일어나면 다행이겠지만, \n",
    "\n",
    "항상 조금만 더 자려는 마음 때문에 매일 학교를 지각하고 있다.\n",
    "\n",
    "상근이는 모든 방법을 동원해보았지만, 조금만 더 자려는 마음은 그 어떤 것도 없앨 수가 없었다.\n",
    "\n",
    "이런 상근이를 불쌍하게 보던, 창영이는 자신이 사용하는 방법을 추천해 주었다.\n",
    "\n",
    "바로 \"45분 일찍 알람 설정하기\"이다.\n",
    "\n",
    "이 방법은 단순하다. 원래 설정되어 있는 알람을 45분 앞서는 시간으로 바꾸는 것이다. \n",
    "\n",
    "어차피 알람 소리를 들으면, 알람을 끄고 조금 더 잘 것이기 때문이다. 이 방법을 사용하면, \n",
    "\n",
    "매일 아침 더 잤다는 기분을 느낄 수 있고, 학교도 지각하지 않게 된다.\n",
    "\n",
    "현재 상근이가 설정한 알람 시각이 주어졌을 때, 창영이의 방법을 사용한다면, \n",
    "\n",
    "이를 언제로 고쳐야 하는지 구하는 프로그램을 작성하시오.\n",
    "```"
   ]
  },
  {
   "cell_type": "code",
   "execution_count": null,
   "id": "df766f55",
   "metadata": {},
   "outputs": [],
   "source": [
    "H,M=map(int,input().split())\n",
    "\n",
    "if H > 0:\n",
    "    if M >= 45:\n",
    "        print(H,M-45)\n",
    "    elif M < 45:\n",
    "        print(H-1,M+15)\n",
    "elif H == 0:\n",
    "    if M >= 45:\n",
    "        print(H,M-45)\n",
    "    elif M < 45:\n",
    "        print(H+23, M+15)"
   ]
  },
  {
   "cell_type": "markdown",
   "id": "a9f972cd",
   "metadata": {},
   "source": [
    "```\n",
    "H가 0보다 클경우에는 오전 01시부터 23:59분을 의미\n",
    "M이 45보다 클 경우에는 단순하게 45를 빼도 되지만,\n",
    "45보다 작을 경우에는 1시간은 60분이기 때문에 45를 \n",
    "빼면 안됨. 이럴 경우 H에서 1을 빼주고, M에는 15를 더해줌 \n",
    "ex. 15시 15분 의 45분 전은 \n",
    "    (15-1)시 (15+15)분이 된다.\n",
    "        \n",
    "반면 H가 0일 경우는 자정을 의미함. 00시에서 45분 전은 \n",
    "전날을 의미한다. (마이너스가 될수 없다) 하루는 24시간이기 \n",
    "때문에 우선 H에 23을 더해주고 M은 똑같이 진행.\n",
    "```\n",
    "    "
   ]
  }
 ],
 "metadata": {
  "kernelspec": {
   "display_name": "Python 3",
   "language": "python",
   "name": "python3"
  },
  "language_info": {
   "codemirror_mode": {
    "name": "ipython",
    "version": 3
   },
   "file_extension": ".py",
   "mimetype": "text/x-python",
   "name": "python",
   "nbconvert_exporter": "python",
   "pygments_lexer": "ipython3",
   "version": "3.9.5"
  }
 },
 "nbformat": 4,
 "nbformat_minor": 5
}
