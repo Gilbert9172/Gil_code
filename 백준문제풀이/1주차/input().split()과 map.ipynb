{
 "cells": [
  {
   "cell_type": "markdown",
   "id": "d83b5d60",
   "metadata": {},
   "source": [
    "# input().split()과 map\n",
    "\n",
    "```\n",
    "input().split()과 map - 파이썬 코딩 도장\n",
    "```\n",
    "- https://dojang.io/mod/page/view.php?id=2286\n"
   ]
  },
  {
   "cell_type": "markdown",
   "id": "bf0ab2d3",
   "metadata": {},
   "source": [
    "- 숫자 1개 이상 들어갈수 있다. -> 리스트 만들수 있음."
   ]
  },
  {
   "cell_type": "code",
   "execution_count": 82,
   "id": "5e64249e",
   "metadata": {},
   "outputs": [
    {
     "name": "stdout",
     "output_type": "stream",
     "text": [
      "1 2 3 4 5 \n"
     ]
    }
   ],
   "source": [
    "a = input().split()"
   ]
  },
  {
   "cell_type": "code",
   "execution_count": 83,
   "id": "0bcf5e1d",
   "metadata": {},
   "outputs": [
    {
     "data": {
      "text/plain": [
       "['1', '2', '3', '4', '5']"
      ]
     },
     "execution_count": 83,
     "metadata": {},
     "output_type": "execute_result"
    }
   ],
   "source": [
    "a"
   ]
  },
  {
   "cell_type": "markdown",
   "id": "f0cc7e76",
   "metadata": {},
   "source": [
    "- map 함수를 사용할 경우 list로 다시 묶어줘야한다."
   ]
  },
  {
   "cell_type": "code",
   "execution_count": 106,
   "id": "a414f841",
   "metadata": {},
   "outputs": [
    {
     "name": "stdout",
     "output_type": "stream",
     "text": [
      "123\n"
     ]
    }
   ],
   "source": [
    "# split 안해준경우\n",
    "b = map(int, input())"
   ]
  },
  {
   "cell_type": "code",
   "execution_count": 108,
   "id": "c9ec2a13",
   "metadata": {},
   "outputs": [
    {
     "data": {
      "text/plain": [
       "[1, 2, 3]"
      ]
     },
     "execution_count": 108,
     "metadata": {},
     "output_type": "execute_result"
    }
   ],
   "source": [
    "list(b)"
   ]
  },
  {
   "cell_type": "code",
   "execution_count": 75,
   "id": "b5db6bd6",
   "metadata": {},
   "outputs": [
    {
     "name": "stdout",
     "output_type": "stream",
     "text": [
      "10 20\n"
     ]
    }
   ],
   "source": [
    "# split 해준경우\n",
    "a = map(int, input().split())"
   ]
  },
  {
   "cell_type": "code",
   "execution_count": 76,
   "id": "fac65bae",
   "metadata": {},
   "outputs": [
    {
     "name": "stdout",
     "output_type": "stream",
     "text": [
      "<map object at 0x000001A7F67A5700>\n"
     ]
    }
   ],
   "source": [
    "print(a)"
   ]
  },
  {
   "cell_type": "code",
   "execution_count": 78,
   "id": "527b2d52",
   "metadata": {},
   "outputs": [
    {
     "data": {
      "text/plain": [
       "[10, 20]"
      ]
     },
     "execution_count": 78,
     "metadata": {},
     "output_type": "execute_result"
    }
   ],
   "source": [
    "list(a)"
   ]
  },
  {
   "cell_type": "markdown",
   "id": "eb154989",
   "metadata": {},
   "source": [
    "- 변수 두개일 경우 ( .split() 필수)"
   ]
  },
  {
   "cell_type": "code",
   "execution_count": 2,
   "id": "cf47b1cf",
   "metadata": {},
   "outputs": [
    {
     "name": "stdout",
     "output_type": "stream",
     "text": [
      "1 2\n"
     ]
    }
   ],
   "source": [
    "a,b = map(int,input().split())"
   ]
  },
  {
   "cell_type": "code",
   "execution_count": 3,
   "id": "18a38c3a",
   "metadata": {},
   "outputs": [
    {
     "name": "stdout",
     "output_type": "stream",
     "text": [
      "1\n",
      "2\n"
     ]
    }
   ],
   "source": [
    "print(a)\n",
    "print(b)"
   ]
  }
 ],
 "metadata": {
  "kernelspec": {
   "display_name": "Python 3",
   "language": "python",
   "name": "python3"
  },
  "language_info": {
   "codemirror_mode": {
    "name": "ipython",
    "version": 3
   },
   "file_extension": ".py",
   "mimetype": "text/x-python",
   "name": "python",
   "nbconvert_exporter": "python",
   "pygments_lexer": "ipython3",
   "version": "3.9.5"
  }
 },
 "nbformat": 4,
 "nbformat_minor": 5
}
