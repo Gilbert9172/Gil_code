{
 "cells": [
  {
   "cell_type": "markdown",
   "id": "ef2ad035",
   "metadata": {},
   "source": [
    "# 2. 시험 성적\n",
    "\n",
    "```\n",
    "시험 점수를 입력받아 90 ~ 100점은 A, 80 ~ 89점은 B, 70 ~ 79점은 C, 60 ~ 69점은 D, \n",
    "\n",
    "나머지 점수는 F를 출력하는 프로그램을 작성하시오.\n",
    "```"
   ]
  },
  {
   "cell_type": "code",
   "execution_count": null,
   "id": "6731f183",
   "metadata": {},
   "outputs": [],
   "source": [
    "a = int(input())\n",
    "\n",
    "if 100 >= a >89:\n",
    "    print(\"A\")\n",
    "elif 89 >= a > 79:\n",
    "    print(\"B\")\n",
    "elif 79 >= a > 69:\n",
    "    print(\"C\")\n",
    "elif 69 >= a > 59:\n",
    "    print(\"D\")\n",
    "else:\n",
    "    print(\"F\")"
   ]
  }
 ],
 "metadata": {
  "kernelspec": {
   "display_name": "Python 3",
   "language": "python",
   "name": "python3"
  },
  "language_info": {
   "codemirror_mode": {
    "name": "ipython",
    "version": 3
   },
   "file_extension": ".py",
   "mimetype": "text/x-python",
   "name": "python",
   "nbconvert_exporter": "python",
   "pygments_lexer": "ipython3",
   "version": "3.9.5"
  }
 },
 "nbformat": 4,
 "nbformat_minor": 5
}
