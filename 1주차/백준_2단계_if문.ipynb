{
 "cells": [
  {
   "cell_type": "markdown",
   "id": "d83b5d60",
   "metadata": {},
   "source": [
    "# input().split()과 map\n",
    "\n",
    "```\n",
    "input().split()과 map - 파이썬 코딩 도장\n",
    "```\n",
    "- https://dojang.io/mod/page/view.php?id=2286\n"
   ]
  },
  {
   "cell_type": "markdown",
   "id": "bf0ab2d3",
   "metadata": {},
   "source": [
    "- 숫자 1개 이상 들어갈수 있다. -> 리스트 만들수 있음."
   ]
  },
  {
   "cell_type": "code",
   "execution_count": 82,
   "id": "5e64249e",
   "metadata": {},
   "outputs": [
    {
     "name": "stdout",
     "output_type": "stream",
     "text": [
      "1 2 3 4 5 \n"
     ]
    }
   ],
   "source": [
    "a = input().split()"
   ]
  },
  {
   "cell_type": "code",
   "execution_count": 83,
   "id": "0bcf5e1d",
   "metadata": {},
   "outputs": [
    {
     "data": {
      "text/plain": [
       "['1', '2', '3', '4', '5']"
      ]
     },
     "execution_count": 83,
     "metadata": {},
     "output_type": "execute_result"
    }
   ],
   "source": [
    "a"
   ]
  },
  {
   "cell_type": "markdown",
   "id": "f0cc7e76",
   "metadata": {},
   "source": [
    "- map 함수를 사용할 경우 list로 다시 묶어줘야한다."
   ]
  },
  {
   "cell_type": "code",
   "execution_count": 106,
   "id": "a414f841",
   "metadata": {},
   "outputs": [
    {
     "name": "stdout",
     "output_type": "stream",
     "text": [
      "123\n"
     ]
    }
   ],
   "source": [
    "# split 안해준경우\n",
    "b = map(int, input())"
   ]
  },
  {
   "cell_type": "code",
   "execution_count": 108,
   "id": "c9ec2a13",
   "metadata": {},
   "outputs": [
    {
     "data": {
      "text/plain": [
       "[1, 2, 3]"
      ]
     },
     "execution_count": 108,
     "metadata": {},
     "output_type": "execute_result"
    }
   ],
   "source": [
    "list(b)"
   ]
  },
  {
   "cell_type": "code",
   "execution_count": 75,
   "id": "b5db6bd6",
   "metadata": {},
   "outputs": [
    {
     "name": "stdout",
     "output_type": "stream",
     "text": [
      "10 20\n"
     ]
    }
   ],
   "source": [
    "# split 해준경우\n",
    "a = map(int, input().split())"
   ]
  },
  {
   "cell_type": "code",
   "execution_count": 76,
   "id": "fac65bae",
   "metadata": {},
   "outputs": [
    {
     "name": "stdout",
     "output_type": "stream",
     "text": [
      "<map object at 0x000001A7F67A5700>\n"
     ]
    }
   ],
   "source": [
    "print(a)"
   ]
  },
  {
   "cell_type": "code",
   "execution_count": 78,
   "id": "527b2d52",
   "metadata": {},
   "outputs": [
    {
     "data": {
      "text/plain": [
       "[10, 20]"
      ]
     },
     "execution_count": 78,
     "metadata": {},
     "output_type": "execute_result"
    }
   ],
   "source": [
    "list(a)"
   ]
  },
  {
   "cell_type": "markdown",
   "id": "eb154989",
   "metadata": {},
   "source": [
    "- 변수 두개일 경우 ( .split() 필수)"
   ]
  },
  {
   "cell_type": "code",
   "execution_count": 2,
   "id": "cf47b1cf",
   "metadata": {},
   "outputs": [
    {
     "name": "stdout",
     "output_type": "stream",
     "text": [
      "1 2\n"
     ]
    }
   ],
   "source": [
    "a,b = map(int,input().split())"
   ]
  },
  {
   "cell_type": "code",
   "execution_count": 3,
   "id": "18a38c3a",
   "metadata": {},
   "outputs": [
    {
     "name": "stdout",
     "output_type": "stream",
     "text": [
      "1\n",
      "2\n"
     ]
    }
   ],
   "source": [
    "print(a)\n",
    "print(b)"
   ]
  },
  {
   "cell_type": "markdown",
   "id": "6194638f",
   "metadata": {},
   "source": [
    "# 1. 두 수 비교하기\n",
    "\n",
    "```markdown\n",
    "두 정수 A와 B가 주어졌을 때, A와 B를 비교하는 프로그램을 작성하시오.\n",
    "\n",
    "첫째 줄에 A,B가 주어진다. A와 B는 공백 한 칸으로 구분되어져 있다.\n",
    "```"
   ]
  },
  {
   "cell_type": "code",
   "execution_count": 1,
   "id": "0495dcbf",
   "metadata": {},
   "outputs": [
    {
     "name": "stdout",
     "output_type": "stream",
     "text": [
      "2 1\n",
      ">\n"
     ]
    }
   ],
   "source": [
    "a,b=map(int,input().split())\n",
    "\n",
    "if a>b:\n",
    "    print(\">\")\n",
    "elif a<b:\n",
    "    print(\"<\")\n",
    "elif a==b:\n",
    "    print(\"==\")"
   ]
  },
  {
   "cell_type": "markdown",
   "id": "d4c78121",
   "metadata": {},
   "source": [
    "# 2. 시험 성적\n",
    "\n",
    "```markdown\n",
    "시험 점수를 입력받아 90 ~ 100점은 A, 80 ~ 89점은 B, 70 ~ 79점은 C, 60 ~ 69점은 D, \n",
    "\n",
    "나머지 점수는 F를 출력하는 프로그램을 작성하시오.\n",
    "```"
   ]
  },
  {
   "cell_type": "code",
   "execution_count": 2,
   "id": "f1da77f3",
   "metadata": {},
   "outputs": [
    {
     "name": "stdout",
     "output_type": "stream",
     "text": [
      "100\n",
      "A\n"
     ]
    }
   ],
   "source": [
    "a = int(input())\n",
    "\n",
    "if 100 >= a >89:\n",
    "    print(\"A\")\n",
    "elif 89 >= a > 79:\n",
    "    print(\"B\")\n",
    "elif 79 >= a > 69:\n",
    "    print(\"C\")\n",
    "elif 69 >= a > 59:\n",
    "    print(\"D\")\n",
    "else:\n",
    "    print(\"F\")"
   ]
  },
  {
   "cell_type": "markdown",
   "id": "cb47131b",
   "metadata": {},
   "source": [
    "# 3. 윤년\n",
    "```markdown\n",
    "연도가 주어졌을 때, 윤년이면 1, 아니면 0을 출력하는 프로그램을 작성하시오. \n",
    "\n",
    "윤년은 연도가 4의 배수이면서, 100의 배수가 아닐 때 또는 400의 배수일 때이다. \n",
    "\n",
    "예를 들어, 2012년은 4의 배수이면서 100의 배수가 아니라서 윤년이다. \n",
    "\n",
    "1900년은 100의 배수이고 400의 배수는 아니기 때문에 윤년이 아니다. \n",
    "\n",
    "하지만, 2000년은 400의 배수이기 때문에 윤년이다.\n",
    "```"
   ]
  },
  {
   "cell_type": "code",
   "execution_count": 10,
   "id": "ad15a9f5",
   "metadata": {},
   "outputs": [],
   "source": [
    "i = int(input())\n",
    "\n",
    "if (i%4 ==0 and i%400==0) or (i%4 ==0 and i%100!=0):\n",
    "    print(1)\n",
    "else:\n",
    "    print(0)"
   ]
  },
  {
   "cell_type": "markdown",
   "id": "15f0b6eb",
   "metadata": {},
   "source": [
    "# 4. 사분면 고르기\n",
    "```markdown\n",
    "흔한 수학 문제 중 하나는 주어진 점이 어느 사분면에 속하는지 알아내는 것이다.\n",
    "\n",
    "사분면은 아래 그림처럼 1부터 4까지 번호를 갖는다. \"Quadrant n\"은 \"제n사분면\"이라는 뜻이다.\n",
    "\n",
    "예를 들어, 좌표가 (12, 5)인 점 A는 x좌표와 y좌표가 모두 양수이므로 제1사분면에 속한다. \n",
    "\n",
    "점 B는 x좌표가 음수이고 y좌표가 양수이므로 제2사분면에 속한다.\n",
    "\n",
    "점의 좌표를 입력받아 그 점이 어느 사분면에 속하는지 알아내는 프로그램을 작성하시오. \n",
    "\n",
    "단, x좌표와 y좌표는 모두 양수나 음수라고 가정한다\n",
    "```"
   ]
  },
  {
   "cell_type": "code",
   "execution_count": 14,
   "id": "d8a01c2f",
   "metadata": {},
   "outputs": [
    {
     "name": "stdout",
     "output_type": "stream",
     "text": [
      "9\n",
      "-13\n",
      "4\n"
     ]
    }
   ],
   "source": [
    "x = int(input())\n",
    "y = int(input())\n",
    "\n",
    "# 두 상수의 곱이 양수일땐 1,3사분면\n",
    "if x*y > 0:\n",
    "    if x > 0 and y > 0: \n",
    "        print(1)\n",
    "    elif x < 0 and y < 0:\n",
    "        print(3)\n",
    "        \n",
    "# 두 상수의 곱이 음수일땐 2,4사분면        \n",
    "elif x*y < 0:\n",
    "    if x < 0 and y > 0: \n",
    "        print(2)\n",
    "    elif x > 0 and y < 0:\n",
    "        print(4)"
   ]
  },
  {
   "cell_type": "markdown",
   "id": "8d22c909",
   "metadata": {},
   "source": [
    "# 5. 알람 시계\n",
    "```markdown\n",
    "상근이는 매일 아침 알람을 듣고 일어난다. 알람을 듣고 바로 일어나면 다행이겠지만, \n",
    "\n",
    "항상 조금만 더 자려는 마음 때문에 매일 학교를 지각하고 있다.\n",
    "\n",
    "상근이는 모든 방법을 동원해보았지만, 조금만 더 자려는 마음은 그 어떤 것도 없앨 수가 없었다.\n",
    "\n",
    "이런 상근이를 불쌍하게 보던, 창영이는 자신이 사용하는 방법을 추천해 주었다.\n",
    "\n",
    "바로 \"45분 일찍 알람 설정하기\"이다.\n",
    "\n",
    "이 방법은 단순하다. 원래 설정되어 있는 알람을 45분 앞서는 시간으로 바꾸는 것이다. \n",
    "\n",
    "어차피 알람 소리를 들으면, 알람을 끄고 조금 더 잘 것이기 때문이다. 이 방법을 사용하면, \n",
    "\n",
    "매일 아침 더 잤다는 기분을 느낄 수 있고, 학교도 지각하지 않게 된다.\n",
    "\n",
    "현재 상근이가 설정한 알람 시각이 주어졌을 때, 창영이의 방법을 사용한다면, \n",
    "\n",
    "이를 언제로 고쳐야 하는지 구하는 프로그램을 작성하시오.\n",
    "```"
   ]
  },
  {
   "cell_type": "code",
   "execution_count": 70,
   "id": "110d7470",
   "metadata": {},
   "outputs": [
    {
     "name": "stdout",
     "output_type": "stream",
     "text": [
      "23\n",
      "40\n",
      "22 55\n"
     ]
    }
   ],
   "source": [
    "H,M=map(int,input().split())\n",
    "\n",
    "if H > 0:\n",
    "    if M >= 45:\n",
    "        print(H,M-45)\n",
    "    elif M < 45:\n",
    "        print(H-1,M+15)\n",
    "elif H == 0:\n",
    "    if M >= 45:\n",
    "        print(H,M-45)\n",
    "    elif M < 45:\n",
    "        print(H+23, M+15)"
   ]
  }
 ],
 "metadata": {
  "kernelspec": {
   "display_name": "Python 3",
   "language": "python",
   "name": "python3"
  },
  "language_info": {
   "codemirror_mode": {
    "name": "ipython",
    "version": 3
   },
   "file_extension": ".py",
   "mimetype": "text/x-python",
   "name": "python",
   "nbconvert_exporter": "python",
   "pygments_lexer": "ipython3",
   "version": "3.9.5"
  }
 },
 "nbformat": 4,
 "nbformat_minor": 5
}
